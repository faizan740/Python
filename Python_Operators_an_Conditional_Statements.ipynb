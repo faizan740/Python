{
  "nbformat": 4,
  "nbformat_minor": 0,
  "metadata": {
    "colab": {
      "provenance": []
    },
    "kernelspec": {
      "name": "python3",
      "display_name": "Python 3"
    },
    "language_info": {
      "name": "python"
    }
  },
  "cells": [
    {
      "cell_type": "markdown",
      "source": [
        "# Programm no.1\n",
        "Develop a program that calculates the final grade of a student. The user inputs scores for different subjects (e.g., Math, Science, English), and the program calculates the average score. If the average is above 70, the student passes; otherwise, they fail."
      ],
      "metadata": {
        "id": "GIWRORjc6CAc"
      }
    },
    {
      "cell_type": "code",
      "execution_count": null,
      "metadata": {
        "colab": {
          "base_uri": "https://localhost:8080/"
        },
        "id": "I72r0G6vz0wX",
        "outputId": "c9f02fea-a0bc-42be-ec0f-c8ce26adfb52"
      },
      "outputs": [
        {
          "output_type": "stream",
          "name": "stdout",
          "text": [
            "enter the marks of math55\n",
            "enter the marks of english55\n",
            "enter the marks of science55\n",
            "pass\n"
          ]
        }
      ],
      "source": [
        "Math= int(input(\"enter the marks of math\"))\n",
        "English= int(input(\"enter the marks of english\"))\n",
        "Science= int(input(\"enter the marks of science\"))\n",
        "# average of total subjects\n",
        "average= (Math+English+Science)/3\n",
        "if  average >= 70:\n",
        "  print(\"pass\")\n",
        "else:\n",
        "  print(\"fail\")\n"
      ]
    },
    {
      "cell_type": "markdown",
      "source": [
        "# Programm No.2\n",
        " Ask the user to input their age, and the program should categorize them into groups (e.g., Child: 0-12, Teen: 13-19, Adult: 20-59, Senior: 60+)."
      ],
      "metadata": {
        "id": "Va7kmXg76aNO"
      }
    },
    {
      "cell_type": "code",
      "source": [
        "Age= int(input(\"enter your age\"))\n",
        "if Age >= 0 and Age <= 12:\n",
        "  print(\"child\")\n",
        "elif Age >= 13 and Age <= 19:\n",
        "  print(\"teen\")\n",
        "elif Age >= 20 and Age <= 59:\n",
        "  print(\"adult\")\n",
        "else:\n",
        "  print(\"senior\")"
      ],
      "metadata": {
        "id": "7UMYgKee5hUS",
        "colab": {
          "base_uri": "https://localhost:8080/"
        },
        "outputId": "05afadc6-34b5-4ad0-915f-1811fa7b0412"
      },
      "execution_count": 6,
      "outputs": [
        {
          "output_type": "stream",
          "name": "stdout",
          "text": [
            "enter your age34\n",
            "adult\n"
          ]
        }
      ]
    },
    {
      "cell_type": "markdown",
      "source": [
        "# Programm No.3\n",
        "Odd or Even Checker: Create a program where the user enters a number, and the program checks and displays whether the number is odd or even."
      ],
      "metadata": {
        "id": "ie5VPGyq8tix"
      }
    },
    {
      "cell_type": "code",
      "source": [
        "x= int(input(\"Enter a number\"))\n",
        "if x % 2 == 0:\n",
        "  print(\"Even\")\n",
        "else:\n",
        "  print(\"Odd\")\n",
        "\n"
      ],
      "metadata": {
        "colab": {
          "base_uri": "https://localhost:8080/"
        },
        "id": "ZOZsRoXT5hQ_",
        "outputId": "fbe087b3-6ea4-4a96-b801-04159342fe97"
      },
      "execution_count": null,
      "outputs": [
        {
          "output_type": "stream",
          "name": "stdout",
          "text": [
            "Enter a number17\n",
            "Odd\n"
          ]
        }
      ]
    },
    {
      "cell_type": "markdown",
      "source": [
        "# Programm No.4\n",
        "Leap Year Identifier: Write a program that takes a year as input and determines whether it is a leap year or not. Remember that a leap year is divisible by 4, but not by 100 unless it is also divisible by 400."
      ],
      "metadata": {
        "id": "Um6v6Y_oAT4B"
      }
    },
    {
      "cell_type": "code",
      "source": [
        "Year= int(input(\"Enter a year\"))\n",
        "if Year % 4 == 0 or Year % 400 == 0:\n",
        "  print(\"Leap year\")\n",
        "else:\n",
        "  print(\"It is not a leap year\")"
      ],
      "metadata": {
        "colab": {
          "base_uri": "https://localhost:8080/"
        },
        "id": "uvzr0FJe5hOf",
        "outputId": "d3e3673d-4577-4fa9-b6a4-f550d97cd99d"
      },
      "execution_count": null,
      "outputs": [
        {
          "output_type": "stream",
          "name": "stdout",
          "text": [
            "Enter a year2016\n",
            "Leap year\n"
          ]
        }
      ]
    },
    {
      "cell_type": "markdown",
      "source": [
        "# Programm No.5\n",
        "Distance Converter: Design a program that converts distance from kilometers to miles, or miles to kilometers. The user should input the distance and the unit they are converting from."
      ],
      "metadata": {
        "id": "K95mmRB2DcIJ"
      }
    },
    {
      "cell_type": "code",
      "source": [
        "Distance= int(input(\"Enter the distance\"))\n",
        "Unit= input(\"Enter the desired unit as K or M\")\n",
        "if Unit == \"M\":\n",
        "  # Kilometer to miles formula\n",
        "  M= (Distance/1.6093445)\n",
        "  print(\"Miles:\",M)\n",
        "elif Unit == \"k\":\n",
        "  # Miles to kilometer formula\n",
        "  K= (1.6093445*Distance)\n",
        "  print(\"Kilometer:\",K)\n",
        "else:\n",
        "  print(\"you entere the wrong unit\")\n",
        "\n"
      ],
      "metadata": {
        "id": "eVFKhYSY5hJ2",
        "colab": {
          "base_uri": "https://localhost:8080/"
        },
        "outputId": "4dd6e139-01c9-412c-d9a3-c4ed089adf5b"
      },
      "execution_count": 4,
      "outputs": [
        {
          "output_type": "stream",
          "name": "stdout",
          "text": [
            "Enter the distance3\n",
            "Enter the desired unit as K or Mk\n",
            "Kilometer: 4.8280335\n"
          ]
        }
      ]
    }
  ]
}